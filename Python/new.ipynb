{
 "cells": [
  {
   "cell_type": "code",
   "execution_count": null,
   "metadata": {},
   "outputs": [],
   "source": [
    "a = int(input(\"Enter The Number   :\"))   \n",
    "op= input(\"Enter The op   :\")\n",
    "b = int(input(\"Enter The Number   :\"))\n",
    "if op == \"+\":\n",
    "    print(a + b)\n",
    "elif op == \"-\":\n",
    "    print(a - b)\n",
    "elif op == \"*\":\n",
    "    print(a * b)\n",
    "elif op == \"%\":\n",
    "    print(a % b)\n",
    "else:\n",
    "    print(\"Invalid operator\")"
   ]
  },
  {
   "cell_type": "code",
   "execution_count": 13,
   "metadata": {},
   "outputs": [
    {
     "name": "stdout",
     "output_type": "stream",
     "text": [
      "The factorial of 5 is 120\n"
     ]
    }
   ],
   "source": [
    "user = int(input(\"Enter The Number   :\"))\n",
    "\n",
    "factorial = 1\n",
    "\n",
    "if user < 0:\n",
    "    print(\"Negative Number\")\n",
    "else:\n",
    "    for i in range(1,user + 1):\n",
    "        factorial *= i\n",
    "    print(f\"The factorial of {user} is {factorial}\") "
   ]
  },
  {
   "cell_type": "code",
   "execution_count": 16,
   "metadata": {},
   "outputs": [
    {
     "name": "stdout",
     "output_type": "stream",
     "text": [
      "The entered letter is not a vowel\n"
     ]
    }
   ],
   "source": [
    "user = input(\"Enter The Number   :\")\n",
    "\n",
    "if user == \"a\" or user == \"e\" or user == \"i\" or user == \"u\" :\n",
    "    print(\"The entered letter is a vowel\")\n",
    "else:\n",
    "    print(\"The entered letter is not a vowel\")"
   ]
  }
 ],
 "metadata": {
  "kernelspec": {
   "display_name": "Python 3",
   "language": "python",
   "name": "python3"
  },
  "language_info": {
   "codemirror_mode": {
    "name": "ipython",
    "version": 3
   },
   "file_extension": ".py",
   "mimetype": "text/x-python",
   "name": "python",
   "nbconvert_exporter": "python",
   "pygments_lexer": "ipython3",
   "version": "3.12.4"
  }
 },
 "nbformat": 4,
 "nbformat_minor": 2
}
